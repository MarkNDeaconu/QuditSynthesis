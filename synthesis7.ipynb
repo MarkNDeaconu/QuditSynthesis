{
 "cells": [
  {
   "cell_type": "code",
   "execution_count": 1,
   "metadata": {},
   "outputs": [],
   "source": [
    "from datastructures import *\n",
    "import pickle\n",
    "\n",
    "\n",
    "z7 =  cyclotomic_ring(7,complex(0, math.sqrt(7)))\n",
    "\n",
    "n = cyclotomic_element(z7, [0,0,0,0,0,0,0]) \n",
    "e0 = cyclotomic_element(z7, [1,0,0,0,0,0,0])\n",
    "e1 = cyclotomic_element(z7, [0,1,0,0,0,0,0])\n",
    "e2 = cyclotomic_element(z7, [0,0,1,0,0,0,0])\n",
    "e3 = cyclotomic_element(z7, [0,0,0,1,0,0,0])\n",
    "e4 = cyclotomic_element(z7, [0,0,0,0,1,0,0])\n",
    "e5 = cyclotomic_element(z7, [0,0,0,0,0,1,0])\n",
    "e6 = cyclotomic_element(z7, [0,0,0,0,0,0,1])\n",
    "\n",
    "e0m = cyclotomic_element(z7, [1,0,0,0,0,0,0],1)\n",
    "e1m = cyclotomic_element(z7, [0,1,0,0,0,0,0],1)\n",
    "e2m = cyclotomic_element(z7, [0,0,1,0,0,0,0],1)\n",
    "e3m = cyclotomic_element(z7, [0,0,0,1,0,0,0],1)\n",
    "e4m = cyclotomic_element(z7, [0,0,0,0,1,0,0],1)\n",
    "e5m = cyclotomic_element(z7, [0,0,0,0,0,1,0],1)\n",
    "e6m = cyclotomic_element(z7, [0,0,0,0,0,0,1],1)\n",
    "\n",
    "H = operator(7,7, [\n",
    "    [e0m, e0m, e0m, e0m, e0m, e0m, e0m],      \n",
    "    [e0m, e1m, e2m, e3m, e4m, e5m, e6m],     \n",
    "    [e0m, e2m, e4m, e6m, e1m, e3m, e5m],     \n",
    "    [e0m, e3m, e6m, e2m, e5m, e1m, e4m],      \n",
    "    [e0m, e4m, e1m, e5m, e2m, e6m, e3m],     \n",
    "    [e0m, e5m, e3m, e1m, e6m, e4m, e2m],     \n",
    "    [e0m, e6m, e5m, e4m, e3m, e2m, e1m]       \n",
    "])\n",
    "\n",
    "R = operator(7,7,[\n",
    "    [e0, n, n, n, n, n, n],  \n",
    "    [n, e0, n, n, n, n, n], \n",
    "    [n, n, e0, n, n, n, n], \n",
    "    [n, n, n, e0, n, n, n], \n",
    "    [n, n, n, n, e0, n, n],  \n",
    "    [n, n, n, n, n, e0, n],  \n",
    "    [n, n, n, n, n, n, (-1)*e0]  \n",
    "])\n",
    "\n",
    "I= R*R\n",
    "\n",
    "S = operator(7,7,[\n",
    "    [e0, n, n, n, n, n, n],  \n",
    "    [n, e1, n, n, n, n, n], \n",
    "    [n, n, e3, n, n, n, n], \n",
    "    [n, n, n, e6, n, n, n], \n",
    "    [n, n, n, n, e3, n, n],  \n",
    "    [n, n, n, n, n, e1, n],  \n",
    "    [n, n, n, n, n, n, e0]  \n",
    "])\n",
    "\n",
    "H.string = 'H'\n",
    "R.string = 'R'\n",
    "S.string = 'S'"
   ]
  },
  {
   "cell_type": "code",
   "execution_count": null,
   "metadata": {},
   "outputs": [
    {
     "name": "stdout",
     "output_type": "stream",
     "text": [
      "╒══════════╤════════════╤════════════╤════════════╤════════════╤══════════════════════════════════╤════════════╤════════════╕\n",
      "│          │ Column 1   │ Column 2   │ Column 3   │ Column 4   │ Column 5                         │ Column 6   │ Column 7   │\n",
      "╞══════════╪════════════╪════════════╪════════════╪════════════╪══════════════════════════════════╪════════════╪════════════╡\n",
      "│          │ 1          │            │            │            │                                  │            │            │\n",
      "├──────────┼────────────┼────────────┼────────────┼────────────┼──────────────────────────────────┼────────────┼────────────┤\n",
      "│          │            │ 1          │            │            │                                  │            │            │\n",
      "├──────────┼────────────┼────────────┼────────────┼────────────┼──────────────────────────────────┼────────────┼────────────┤\n",
      "│ √-7^(-0) │            │            │ 1ζ¹        │            │                                  │            │            │\n",
      "├──────────┼────────────┼────────────┼────────────┼────────────┼──────────────────────────────────┼────────────┼────────────┤\n",
      "│          │            │            │            │ 1ζ³        │                                  │            │            │\n",
      "├──────────┼────────────┼────────────┼────────────┼────────────┼──────────────────────────────────┼────────────┼────────────┤\n",
      "│          │            │            │            │            │ -1 - 1ζ¹ - 1ζ² - 1ζ³ - 1ζ⁴ - 1ζ⁵ │            │            │\n",
      "├──────────┼────────────┼────────────┼────────────┼────────────┼──────────────────────────────────┼────────────┼────────────┤\n",
      "│          │            │            │            │            │                                  │ 1ζ³        │            │\n",
      "├──────────┼────────────┼────────────┼────────────┼────────────┼──────────────────────────────────┼────────────┼────────────┤\n",
      "│          │            │            │            │            │                                  │            │ 1ζ¹        │\n",
      "╘══════════╧════════════╧════════════╧════════════╧════════════╧══════════════════════════════════╧════════════╧════════════╛\n",
      "343\n"
     ]
    }
   ],
   "source": [
    "X = operator(7,7,[\n",
    "    [n, e0, n, n, n, n, n],  \n",
    "    [n, n, e0, n, n, n, n], \n",
    "    [n, n, n, e0, n, n, n], \n",
    "    [n, n, n, n, e0, n, n], \n",
    "    [n, n, n, n, n, e0, n],  \n",
    "    [n, n, n, n, n, n, e0],  \n",
    "    [e0, n, n, n, n, n, n]  \n",
    "])\n",
    "\n",
    "print((X*X*X*X*X*X)*S*(X))\n",
    "\n",
    "\n",
    "# print(len(z7.subgroup([(X*X*X*X*X*X).power(i)*S*X.power(i) for i in range(4)][1:],100000)))"
   ]
  }
 ],
 "metadata": {
  "kernelspec": {
   "display_name": "Python 3",
   "language": "python",
   "name": "python3"
  },
  "language_info": {
   "codemirror_mode": {
    "name": "ipython",
    "version": 3
   },
   "file_extension": ".py",
   "mimetype": "text/x-python",
   "name": "python",
   "nbconvert_exporter": "python",
   "pygments_lexer": "ipython3",
   "version": "3.12.3"
  }
 },
 "nbformat": 4,
 "nbformat_minor": 2
}

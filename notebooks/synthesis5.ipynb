{
 "cells": [
  {
   "cell_type": "code",
   "execution_count": null,
   "metadata": {},
   "outputs": [],
   "source": [
    "from src.quditsynthesis.datastructures import *\n",
    "\n",
    "import pickle\n",
    "\n",
    "z5 =  cyclotomic_ring(5,math.sqrt(5))\n",
    "\n",
    "n = cyclotomic_element(z5, [0,0,0,0,0]) \n",
    "e0 = cyclotomic_element(z5, [1,0,0,0,0])\n",
    "e1 = cyclotomic_element(z5, [0,1,0,0,0])\n",
    "e2 = cyclotomic_element(z5, [0,0,1,0,0])\n",
    "e3 = cyclotomic_element(z5, [0,0,0,1,0])\n",
    "e4 = cyclotomic_element(z5, [0,0,0,0,1])\n",
    "\n",
    "\n",
    "H = (1/math.sqrt(5))*operator(5,5, [\n",
    "    [e0,e0,e0,e0,e0], \n",
    "    [e0,e1,e2,e3,e4], \n",
    "    [e0,e2,e4,e1,e3], \n",
    "    [e0,e3,e1,e4,e2], \n",
    "    [e0, e4, e3,e2,e1]])\n",
    "H.string = 'H'\n",
    "\n",
    "R = operator(5,5,[\n",
    "    [e0, n, n, n, n],  \n",
    "    [n, e0, n, n, n], \n",
    "    [n, n, e0, n, n], \n",
    "    [n, n, n, e0, n], \n",
    "    [n, n, n, n, (-1)*e0],  \n",
    "])\n",
    "R.string = 'R'\n",
    "\n",
    "I = R*R\n",
    "I.string = ''\n",
    "T = operator(5,5, [\n",
    "    [e0,n,n,n,n],\n",
    "    [n,e1,n,n,n],\n",
    "    [n,n,e3,n,n],\n",
    "    [n,n,n,e2,n],\n",
    "    [n,n,n,n,e4]\n",
    "])\n",
    "T.string = 'T'\n",
    "\n",
    "S= operator(5,5, [\n",
    "    [e0,n,n,n,n],\n",
    "    [n,e1,n,n,n],\n",
    "    [n,n,e3,n,n],\n",
    "    [n,n,n,e1,n],\n",
    "    [n,n,n,n,e0]\n",
    "])\n",
    "S.string = 'S'\n",
    "\n",
    "\n",
    "ket0 = operator(5,1, [\n",
    "    [e0],\n",
    "    [n],\n",
    "    [n],\n",
    "    [n],\n",
    "    [n]\n",
    "])\n",
    "\n",
    "\n",
    "def D_gate(a,b,c,d,e):\n",
    "    power_map = [e0, e1, e2, e3, e4]\n",
    "    gate = operator(5,5, [[power_map[a],n,n,n,n], [n,power_map[b],n,n,n], [n,n,power_map[c],n,n], [n,n,n,power_map[d],n], [n, n, n, n, power_map[e]]])\n",
    "    gate.string = 'D('+str(a)+str(b)+str(c)+str(d)+str(e)+')'\n",
    "    return(gate)\n"
   ]
  },
  {
   "cell_type": "code",
   "execution_count": null,
   "metadata": {},
   "outputs": [],
   "source": [
    "\n",
    "with open('cliffords5.pkl', 'rb') as f:\n",
    "    cliffords = pickle.load(f)\n",
    "\n",
    "print(len(cliffords))"
   ]
  },
  {
   "cell_type": "code",
   "execution_count": null,
   "metadata": {},
   "outputs": [],
   "source": [
    "'''DO NOT RUN THIS EXCEPT FOR IN DEVELOPMENT STAGE'''\n",
    "\n",
    "\n",
    "cliffords  = z5.subgroup_bfs([H,S], 26)\n",
    "    \n",
    "with open('cliffords5.pkl', 'wb') as f:\n",
    "    pickle.dump(cliffords, f)\n",
    "\n",
    "print(len(cliffords))"
   ]
  },
  {
   "cell_type": "code",
   "execution_count": null,
   "metadata": {},
   "outputs": [],
   "source": [
    "print(len(z5.torus(cliffords, n)))\n",
    "\n",
    "print(len(z5.permutation_subgroup(cliffords,e0)))\n",
    "    \n",
    "\n",
    "for mat in z5.permutation_subgroup(cliffords, e0):\n",
    "    print(mat)\n",
    "    print(mat.string)\n",
    "\n",
    "for mat in cliffords:\n",
    "    if len(mat.string) == 27:\n",
    "        print(mat.string)"
   ]
  },
  {
   "cell_type": "code",
   "execution_count": null,
   "metadata": {},
   "outputs": [],
   "source": [
    "X = operator(5,5, [\n",
    "    [n,e0,n,n,n],\n",
    "    [n,n,e0,n,n],\n",
    "    [n,n,n,e0,n],\n",
    "    [n,n,n,n,e0],\n",
    "    [e0,n,n,n,n]\n",
    "])\n",
    "\n",
    "print((-1)*X in cliffords)\n",
    "\n",
    "print(S)\n",
    "print((X*X*X*X).power(1)*S*X.power(1))\n",
    "print((X*X*X*X).power(2)*S*X.power(2))\n",
    "# print(len(z5.subgroup([(X*X*X*X).power(i)*S*X.power(i) for i in range(6)][1:],100000)))\n",
    "# print(len(z5.torus(cliffords, n)))\n"
   ]
  },
  {
   "cell_type": "code",
   "execution_count": null,
   "metadata": {},
   "outputs": [],
   "source": [
    "R_resources = [I, H*R, H*R*H*H*R]\n",
    "\n",
    "R_dropping_set= [ a * c for a in R_resources for c in cliffords]\n",
    "\n",
    "for i in range(10):\n",
    "    matrix = z5.from_orbit([H,S,R])\n",
    "    print(matrix)\n",
    "    print(matrix.synthesize(R_dropping_set))"
   ]
  },
  {
   "cell_type": "code",
   "execution_count": 24,
   "metadata": {},
   "outputs": [
    {
     "name": "stdout",
     "output_type": "stream",
     "text": [
      "[[7 7 7 7 7]\n",
      " [7 7 7 7 7]\n",
      " [7 7 7 7 7]\n",
      " [7 7 7 7 7]\n",
      " [7 7 7 7 7]]\n",
      "[[7 7 7 7 7]\n",
      " [7 7 7 7 7]\n",
      " [6 7 7 7 7]\n",
      " [7 7 7 7 7]\n",
      " [7 7 7 7 7]]\n",
      "[[7 7 7 7 7]\n",
      " [7 7 7 7 7]\n",
      " [7 7 7 7 6]\n",
      " [7 7 7 7 7]\n",
      " [7 7 7 6 7]]\n",
      "[[7 7 7 7 7]\n",
      " [7 7 6 7 7]\n",
      " [7 7 7 7 7]\n",
      " [7 5 7 7 7]\n",
      " [7 7 7 7 7]]\n",
      "[[7 7 7 6 7]\n",
      " [7 5 7 7 7]\n",
      " [7 7 7 7 6]\n",
      " [7 7 6 7 7]\n",
      " [5 7 7 7 7]]\n"
     ]
    },
    {
     "ename": "TypeError",
     "evalue": "cannot unpack non-iterable NoneType object",
     "output_type": "error",
     "traceback": [
      "\u001b[1;31m---------------------------------------------------------------------------\u001b[0m",
      "\u001b[1;31mTypeError\u001b[0m                                 Traceback (most recent call last)",
      "Cell \u001b[1;32mIn[24], line 14\u001b[0m\n\u001b[0;32m     11\u001b[0m \u001b[38;5;28mprint\u001b[39m(matrix\u001b[38;5;241m.\u001b[39msde_profile())\n\u001b[0;32m     12\u001b[0m \u001b[38;5;28;01mfor\u001b[39;00m j \u001b[38;5;129;01min\u001b[39;00m \u001b[38;5;28mrange\u001b[39m(\u001b[38;5;241m10\u001b[39m):\n\u001b[1;32m---> 14\u001b[0m     matrix, option \u001b[38;5;241m=\u001b[39m matrix\u001b[38;5;241m.\u001b[39msynth_search(dropping_set)\n\u001b[0;32m     15\u001b[0m     \u001b[38;5;28mprint\u001b[39m(matrix\u001b[38;5;241m.\u001b[39msde_profile())\n",
      "\u001b[1;31mTypeError\u001b[0m: cannot unpack non-iterable NoneType object"
     ]
    }
   ],
   "source": [
    "# T_resources = [I, T, T*T, T*T*T, T*T*T*T]\n",
    "\n",
    "# H_resources = [I, H, H*H, H*H*H, H*H*H*H]\n",
    "# T_dropping_set = [r * t for r in cliffords for t in T_resources]\n",
    "half_set = z5.subgroup_bfs([H,S,T],14)\n",
    "\n",
    "dropping_set = [H*op for op in half_set]\n",
    "\n",
    "for i in range(1):\n",
    "    matrix = z5.from_orbit([H,S,T], 200)\n",
    "    print(matrix.sde_profile())\n",
    "    for j in range(10):\n",
    "        \n",
    "        matrix, option = matrix.synth_search(dropping_set)\n",
    "        print(matrix.sde_profile())"
   ]
  },
  {
   "cell_type": "code",
   "execution_count": null,
   "metadata": {},
   "outputs": [],
   "source": [
    "\n",
    "for i in range(50):\n",
    "\n",
    "    matrix = z5.from_orbit([H,S,R,T])\n",
    "    print(matrix.sde_profile())\n",
    "    res = matrix.synth_search(T_dropping_set)\n",
    "    try:\n",
    "        print(res[1])\n",
    "    except Exception:\n",
    "        print(None)\n",
    "\n"
   ]
  },
  {
   "cell_type": "code",
   "execution_count": null,
   "metadata": {},
   "outputs": [],
   "source": [
    "print(len(z5.subgroup([H*H,S], 10000)))"
   ]
  }
 ],
 "metadata": {
  "kernelspec": {
   "display_name": "Python 3",
   "language": "python",
   "name": "python3"
  },
  "language_info": {
   "codemirror_mode": {
    "name": "ipython",
    "version": 3
   },
   "file_extension": ".py",
   "mimetype": "text/x-python",
   "name": "python",
   "nbconvert_exporter": "python",
   "pygments_lexer": "ipython3",
   "version": "3.12.3"
  }
 },
 "nbformat": 4,
 "nbformat_minor": 2
}
